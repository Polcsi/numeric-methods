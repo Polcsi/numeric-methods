{
 "cells": [
  {
   "cell_type": "code",
   "execution_count": null,
   "metadata": {},
   "outputs": [],
   "source": [
    "% % Example 3\n",
    "% Solve y'(t) = y(t)(1-2t) with y0 = 1\n",
    "y0 = 1\n",
    "% Initial Condition\n",
    "h = 0.2\n",
    "% Time step\n",
    "t = 0: h: 2\n",
    "% t goes from 0 to 2 seconds.\n",
    "% Exact solution, hard to find in this case (in general we won't have it)\n",
    "yexact = exp(t-t. ^ 2)\n",
    "y = zeros(size(t))\n",
    "% Preallocate array(good coding practice)\n",
    "f = @(y, t) y * (1 - (2 * t))\n",
    "\n",
    "y(1) = y0\n",
    "% Initial condition gives solution at t = 0.\n",
    "for i = 1:\n",
    "  (length(t) - 1) % Approx for y gives approx for deriv\n",
    "  k1 = f(y(i), t(i))\n",
    "  y(i+1) = y(i) + h * k1\n",
    "  % Approximate solution at next value of y\n",
    "end\n",
    "plot(t, yexact, t, y)\n",
    "legend('Exact', 'Approximate')\n"
   ]
  }
 ],
 "metadata": {
  "language_info": {
   "name": "python"
  },
  "orig_nbformat": 4
 },
 "nbformat": 4,
 "nbformat_minor": 2
}
